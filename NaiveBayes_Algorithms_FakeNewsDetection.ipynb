{
 "cells": [
  {
   "cell_type": "code",
   "execution_count": 1,
   "id": "547c7f91-3261-43a6-9b3a-7657a31c98cc",
   "metadata": {},
   "outputs": [],
   "source": [
    "import pandas as pd\n",
    "import numpy as np\n",
    "import re\n",
    "import nltk\n",
    "import seaborn as sns\n",
    "import string\n",
    "import matplotlib.pyplot as plt\n",
    "\n",
    "from sklearn.feature_extraction.text import TfidfVectorizer, CountVectorizer\n",
    "from sklearn.decomposition import TruncatedSVD\n",
    "from sklearn.naive_bayes import MultinomialNB, GaussianNB\n",
    "from sklearn.model_selection import GridSearchCV, cross_val_score, train_test_split\n",
    "from sklearn.metrics import accuracy_score, classification_report\n",
    "\n",
    "from nltk.stem import PorterStemmer, WordNetLemmatizer\n",
    "from nltk.corpus import stopwords\n",
    "from nltk.tokenize import word_tokenize\n",
    "\n",
    "from imblearn.over_sampling import RandomOverSampler\n",
    "\n",
    "#nltk.download('wordnet')"
   ]
  },
  {
   "cell_type": "markdown",
   "id": "8e326bd8-0d6f-48c8-83b7-6f256ccacc35",
   "metadata": {},
   "source": [
    "### Load The Data\n",
    "\n",
    "We have the data already split into training, testing, and validation sets. But the train.csv isn't labeled. So we load and merge train.csv and val.csv, and since the data is sufficiently large, we then split it into training, testing, and validation sets."
   ]
  },
  {
   "cell_type": "code",
   "execution_count": 2,
   "id": "987ac138-b036-417a-b34b-dacbca468d2c",
   "metadata": {},
   "outputs": [],
   "source": [
    "# Load \n",
    "train_data = pd.read_csv(\"train.csv\")\n",
    "val_data = pd.read_csv(\"val.csv\")"
   ]
  },
  {
   "cell_type": "code",
   "execution_count": 3,
   "id": "4281d63b-24a2-4381-b647-b5ca8219933a",
   "metadata": {},
   "outputs": [],
   "source": [
    "# Merge train_data and val_data\n",
    "merged_data = pd.concat([train_data, val_data], ignore_index=True)\n",
    "\n",
    "# Save the merged data to a new CSV file\n",
    "merged_data.to_csv(\"merged_data.csv\", index=False)"
   ]
  },
  {
   "cell_type": "code",
   "execution_count": 4,
   "id": "5df3cefc-fdc1-4098-99f4-6a1ada74ac9f",
   "metadata": {},
   "outputs": [],
   "source": [
    "# Split data into train, validation, and test sets\n",
    "train_data, temp_data = train_test_split(merged_data, test_size=0.25, random_state=42)\n",
    "remaining_data = temp_data.copy()\n",
    "\n",
    "val_data, test_data = train_test_split(remaining_data, test_size=0.4, random_state=42)"
   ]
  },
  {
   "cell_type": "markdown",
   "id": "325b9571-7024-43bb-8023-868411b891ca",
   "metadata": {},
   "source": [
    "### Explore The Data"
   ]
  },
  {
   "cell_type": "code",
   "execution_count": 6,
   "id": "fbe4c46d-e572-40d5-9cec-afa1055c8d3f",
   "metadata": {},
   "outputs": [
    {
     "data": {
      "text/html": [
       "<div>\n",
       "<style scoped>\n",
       "    .dataframe tbody tr th:only-of-type {\n",
       "        vertical-align: middle;\n",
       "    }\n",
       "\n",
       "    .dataframe tbody tr th {\n",
       "        vertical-align: top;\n",
       "    }\n",
       "\n",
       "    .dataframe thead th {\n",
       "        text-align: right;\n",
       "    }\n",
       "</style>\n",
       "<table border=\"1\" class=\"dataframe\">\n",
       "  <thead>\n",
       "    <tr style=\"text-align: right;\">\n",
       "      <th></th>\n",
       "      <th>text</th>\n",
       "      <th>label</th>\n",
       "    </tr>\n",
       "  </thead>\n",
       "  <tbody>\n",
       "    <tr>\n",
       "      <th>0</th>\n",
       "      <td>The court granted by a 5-4 vote a request made...</td>\n",
       "      <td>real</td>\n",
       "    </tr>\n",
       "    <tr>\n",
       "      <th>1</th>\n",
       "      <td>\" Pennsylvania was a crucial swing state in th...</td>\n",
       "      <td>real</td>\n",
       "    </tr>\n",
       "    <tr>\n",
       "      <th>2</th>\n",
       "      <td>The company today is rolling out an update to ...</td>\n",
       "      <td>fake</td>\n",
       "    </tr>\n",
       "    <tr>\n",
       "      <th>3</th>\n",
       "      <td>When it comes to trade policy, Hillary Clinton...</td>\n",
       "      <td>real</td>\n",
       "    </tr>\n",
       "    <tr>\n",
       "      <th>4</th>\n",
       "      <td>S. stocks had their worst April start since 19...</td>\n",
       "      <td>real</td>\n",
       "    </tr>\n",
       "  </tbody>\n",
       "</table>\n",
       "</div>"
      ],
      "text/plain": [
       "                                                text label\n",
       "0  The court granted by a 5-4 vote a request made...  real\n",
       "1  \" Pennsylvania was a crucial swing state in th...  real\n",
       "2  The company today is rolling out an update to ...  fake\n",
       "3  When it comes to trade policy, Hillary Clinton...  real\n",
       "4  S. stocks had their worst April start since 19...  real"
      ]
     },
     "execution_count": 6,
     "metadata": {},
     "output_type": "execute_result"
    }
   ],
   "source": [
    "merged_data.head()"
   ]
  },
  {
   "cell_type": "code",
   "execution_count": 7,
   "id": "f26ac23e-342c-4637-ac75-7409d2b75552",
   "metadata": {},
   "outputs": [
    {
     "name": "stdout",
     "output_type": "stream",
     "text": [
      "Training Data Summary\n",
      "____________________________\n",
      "Number of rows: 203001\n",
      "Number of fake news: 58796\n",
      "Number of real news: 144205\n"
     ]
    }
   ],
   "source": [
    "# Number of rows\n",
    "num_rows = len(train_data)\n",
    "\n",
    "# Number of fake news\n",
    "num_fake_news = train_data[train_data['label'] == 'fake'].shape[0]\n",
    "\n",
    "# Number of real news\n",
    "num_real_news = train_data[train_data['label'] == 'real'].shape[0]\n",
    "\n",
    "# Print summary\n",
    "print(\"Training Data Summary\")\n",
    "print(\"____________________________\")\n",
    "print(\"Number of rows:\", num_rows)\n",
    "print(\"Number of fake news:\", num_fake_news)\n",
    "print(\"Number of real news:\", num_real_news)"
   ]
  },
  {
   "cell_type": "code",
   "execution_count": 8,
   "id": "e17fc363-fc85-4c46-bf3d-67a176280090",
   "metadata": {},
   "outputs": [
    {
     "name": "stdout",
     "output_type": "stream",
     "text": [
      "Validation Data Summary\n",
      "___________________________\n",
      "Number of rows: 40600\n",
      "Number of fake news: 11817\n",
      "Number of real news: 28783\n"
     ]
    }
   ],
   "source": [
    "# Number of rows\n",
    "num_rows = len(val_data)\n",
    "\n",
    "# Number of fake news\n",
    "num_fake_news = val_data[val_data['label'] == 'fake'].shape[0]\n",
    "\n",
    "# Number of real news\n",
    "num_real_news = val_data[val_data['label'] == 'real'].shape[0]\n",
    "\n",
    "# Print summary\n",
    "print(\"Validation Data Summary\")\n",
    "print(\"___________________________\")\n",
    "print(\"Number of rows:\", num_rows)\n",
    "print(\"Number of fake news:\", num_fake_news)\n",
    "print(\"Number of real news:\", num_real_news)"
   ]
  },
  {
   "cell_type": "code",
   "execution_count": 9,
   "id": "2ae7a22c-413f-43b6-b85f-fd4001a09528",
   "metadata": {},
   "outputs": [
    {
     "name": "stdout",
     "output_type": "stream",
     "text": [
      "Testing Data Summary\n",
      "___________________________\n",
      "Number of rows: 27068\n",
      "Number of fake news: 7847\n",
      "Number of real news: 19221\n"
     ]
    }
   ],
   "source": [
    "# Number of rows\n",
    "num_rows = len(test_data)\n",
    "\n",
    "# Number of fake news\n",
    "num_fake_news = test_data[test_data['label'] == 'fake'].shape[0]\n",
    "\n",
    "# Number of real news\n",
    "num_real_news = test_data[test_data['label'] == 'real'].shape[0]\n",
    "\n",
    "# Print summary\n",
    "print(\"Testing Data Summary\")\n",
    "print(\"___________________________\")\n",
    "print(\"Number of rows:\", num_rows)\n",
    "print(\"Number of fake news:\", num_fake_news)\n",
    "print(\"Number of real news:\", num_real_news)"
   ]
  },
  {
   "cell_type": "code",
   "execution_count": 10,
   "id": "3a82f451-425f-4279-811f-9b31b508bd32",
   "metadata": {},
   "outputs": [
    {
     "name": "stdout",
     "output_type": "stream",
     "text": [
      "Entire Data Summary\n",
      "___________________________\n",
      "Number of rows: 270669\n",
      "Number of fake news: 78460\n",
      "Number of real news: 192209\n"
     ]
    }
   ],
   "source": [
    "# Number of rows\n",
    "num_rows = len(merged_data)\n",
    "\n",
    "# Number of fake news\n",
    "num_fake_news = merged_data[merged_data['label'] == 'fake'].shape[0]\n",
    "\n",
    "# Number of real news\n",
    "num_real_news = merged_data[merged_data['label'] == 'real'].shape[0]\n",
    "\n",
    "# Print summary\n",
    "print(\"Entire Data Summary\")\n",
    "print(\"___________________________\")\n",
    "print(\"Number of rows:\", num_rows)\n",
    "print(\"Number of fake news:\", num_fake_news)\n",
    "print(\"Number of real news:\", num_real_news)"
   ]
  },
  {
   "cell_type": "markdown",
   "id": "8064e0db-6377-44f8-bcb3-522cd63a0e0f",
   "metadata": {},
   "source": [
    "### Initializations for Data Preparation"
   ]
  },
  {
   "cell_type": "code",
   "execution_count": 11,
   "id": "5fd27d00-2864-4676-b04d-7d96458dd1bc",
   "metadata": {},
   "outputs": [],
   "source": [
    "svd = TruncatedSVD(n_components=85) # for dim reduction\n",
    "tfidf_vectorizer = TfidfVectorizer(min_df = 3, max_df=0.9, ngram_range=(1,2)) # use tf-idf representation of words to make them numeric and count\n",
    "count_vectorizer = CountVectorizer(min_df=3, max_df=0.9, ngram_range=(1, 2)) # represent words numericly and count\n",
    "oversampler = RandomOverSampler() # for handling class imbalance"
   ]
  },
  {
   "cell_type": "code",
   "execution_count": 12,
   "id": "73a229d8-5d8c-4d4c-bd3e-48a70c8d5357",
   "metadata": {},
   "outputs": [],
   "source": [
    "def preprocess_text(text):\n",
    "    \"\"\"\n",
    "    Preprocesses the input text by expanding contractions, removing URLs, tokenizing,\n",
    "    lowercasing, removing punctuation, numbers, and special characters, lemmatizing,\n",
    "    stemming, and handling HTML tags or markup.\n",
    "\n",
    "    Args:\n",
    "    text (str): Input text to be preprocessed.\n",
    "\n",
    "    Returns:\n",
    "    str: Preprocessed text.\n",
    "    \"\"\"\n",
    "    \n",
    "    # Expand contractions\n",
    "    text = re.sub(r\"can't\", \"cannot\", text)\n",
    "    text = re.sub(r\"won't\", \"will not\", text)\n",
    "    text = re.sub(r\"don't\", \"do not\", text)\n",
    "    text = re.sub(r\"haven't\", \"have not\", text)\n",
    "    text = re.sub(r\"aren't\", \"are not\", text)\n",
    "    text = re.sub(r\"isn't\", \"is not\", text)\n",
    "    text = re.sub(r\"wasn't\", \"was not\", text)\n",
    "    text = re.sub(r\"weren't\", \"were not\", text)\n",
    "    text = re.sub(r\"shan't\", \"shall not\", text)\n",
    "\n",
    "    # Remove URLs\n",
    "    text = re.sub(r'https?://\\S+|www\\.\\S+', '', text)\n",
    "\n",
    "    # Tokenization\n",
    "    tokens = word_tokenize(text)\n",
    "    \n",
    "    # Lowercasing\n",
    "    tokens = [token.lower() for token in tokens]\n",
    "    \n",
    "    # Removing Punctuation, Numbers, and Special Characters\n",
    "    tokens = [re.sub(r'[^a-zA-Z]', '', token) for token in tokens]\n",
    "    \n",
    "    # Removing Stopwords. We comment this out since it reduced our accuracy\n",
    "    #stop_words = set(stopwords.words('english'))\n",
    "    #tokens = [token for token in tokens if token not in stop_words]\n",
    "    \n",
    "    # Lemmatization (inital form of the wor)\n",
    "    lemmatizer = WordNetLemmatizer()\n",
    "    tokens = [lemmatizer.lemmatize(token) for token in tokens]\n",
    "\n",
    "    # Stemming (remove prefix, suffix)\n",
    "    stemmer = PorterStemmer()\n",
    "    tokens = [stemmer.stem(token) for token in tokens]\n",
    "    \n",
    "    # Handling HTML Tags or Markup \n",
    "    text = re.sub(r'<[^>]*>', '', text)  # Remove HTML tags\n",
    "    \n",
    "    \n",
    "    return ' '.join(tokens)\n",
    "\n"
   ]
  },
  {
   "cell_type": "code",
   "execution_count": 13,
   "id": "949526bc-d9d6-46f7-86f7-f4edf9a8a2bc",
   "metadata": {},
   "outputs": [
    {
     "name": "stdout",
     "output_type": "stream",
     "text": [
      "i can not believ he will not be here    excit brb\n"
     ]
    }
   ],
   "source": [
    "# Test the function\n",
    "example_text = \"I can't believe he won't be here. 😊 www.example.com #excited brb\"\n",
    "processed_text = preprocess_text(example_text)\n",
    "print(processed_text)"
   ]
  },
  {
   "cell_type": "markdown",
   "id": "181894a3-3ac9-456e-a735-bfde236dba68",
   "metadata": {},
   "source": [
    "# TRAIN DATA"
   ]
  },
  {
   "cell_type": "markdown",
   "id": "aeb0ec34-70f9-439d-a081-65b410e64f2e",
   "metadata": {},
   "source": [
    "### Clean\n",
    "\n",
    "The `preprocess_text` function preprocesses input text by expanding contractions, removing URLs, tokenizing, lowercasing, removing punctuation, numbers, and special characters, lemmatizing, stemming, and handling HTML tags or markup.\r\n",
    "#### Preprocessing Steps:\r\n",
    "1. **Expanding Contractions:** Expand contractions such as \"can't\" to \"cannot\".\r\n",
    "2. **Removing URLs:** Remove URLs and website addresses from the text.\r\n",
    "3. **Tokenization:** Tokenize the t, breaking down a piece of text into smaller unitsrds.\r\n",
    "4. **Lowercasing:** Convert all words to lowercase.\r\n",
    "5. **Removing Punctuation, Numbers, and Special Characters:** Remove any characters that are not letters.\r\n",
    "6. **Lemmatization:** Lemmatize each word to its base form.\r\n",
    "7. **Stemming:** Perform stemming to reduce words to their root form.\r\n",
    "8. **Handling HTML Tags or Markup:** Remove any HTML tags or markup present in the text.\r\n",
    "\n"
   ]
  },
  {
   "cell_type": "code",
   "execution_count": 14,
   "id": "ad9374e0-6d07-4f7e-b0dc-efb6612ecfd5",
   "metadata": {},
   "outputs": [],
   "source": [
    "train_data['clean_text'] = train_data['text'].apply(preprocess_text)\n",
    "y_train = train_data['label']"
   ]
  },
  {
   "cell_type": "markdown",
   "id": "dd0862fb-be95-4d30-bddf-92b92b05316a",
   "metadata": {},
   "source": [
    "### TF-IDF Vectorizer\r\n",
    "\r\n",
    "TF-IDF (Term Frequency-Inverse Document Frequency) Vectorizer is a method used to transform text data into numerical features. It calculates the importance of words in each row of text data relative to the entire collection of text data (corpus) present  r CSV file. In this process, common words that appear frequently within a row but across the entire corpus are downweighted, while rare words that appear only in specific rows are upweighted.\r\n"
   ]
  },
  {
   "cell_type": "code",
   "execution_count": 15,
   "id": "6c1ca45c-4c81-48c5-8793-3bef54b84c27",
   "metadata": {},
   "outputs": [],
   "source": [
    "# Transform text data into numerical features using TF-IDF\n",
    "X_train_tfidf = tfidf_vectorizer.fit_transform(train_data['clean_text'])"
   ]
  },
  {
   "cell_type": "markdown",
   "id": "fe3587e6-1757-4c56-9eed-acd07121017a",
   "metadata": {},
   "source": [
    "### Count Vectorzier\n",
    "\n",
    "\r\n",
    "Count Vectorizer is a method used to transform text data into numerical features by counting the occurrences of words in each row of text data. It converts eac (rw) into a vector representing the frequency of words in that document.\r\n"
   ]
  },
  {
   "cell_type": "code",
   "execution_count": 16,
   "id": "4e2295e9-78c4-495a-b9de-58bb69e3cbeb",
   "metadata": {},
   "outputs": [],
   "source": [
    "# Transform text data into numerical features using word counts\n",
    "X_train_count = count_vectorizer.fit_transform(train_data['clean_text'])"
   ]
  },
  {
   "cell_type": "markdown",
   "id": "31c76e2b-7e0d-445b-8bfc-db43cb5db1bb",
   "metadata": {},
   "source": [
    "### Handling Class Imbalance"
   ]
  },
  {
   "cell_type": "code",
   "execution_count": 17,
   "id": "500db2fb-369f-405d-8fc3-e6513e0d8399",
   "metadata": {},
   "outputs": [
    {
     "data": {
      "image/png": "[encoded data removed]",
      "text/plain": [
       "<Figure size 600x600 with 1 Axes>"
      ]
     },
     "metadata": {},
     "output_type": "display_data"
    }
   ],
   "source": [
    "# Define palette\n",
    "palette = sns.color_palette(\"pastel\")\n",
    "\n",
    "# Data\n",
    "labels = ['Fake News', 'Real News']\n",
    "sizes = [num_fake_news, num_real_news]\n",
    "explode = (0.1, 0)  # explode 1st slice (i.e., 'Fake News')\n",
    "\n",
    "# Plot\n",
    "plt.figure(figsize=(6, 6))\n",
    "plt.pie(sizes, explode=explode, labels=labels, colors=palette, autopct='%1.1f%%', shadow=True, startangle=140)\n",
    "plt.axis('equal')  # Equal aspect ratio ensures that pie is drawn as a circle.\n",
    "plt.title('Distribution of Fake and Real News')\n",
    "plt.show()"
   ]
  },
  {
   "cell_type": "markdown",
   "id": "65c92b8b-3d4f-4d36-9659-8e12aa2a7c6e",
   "metadata": {},
   "source": [
    "As we have already seen, the number of real news is extremely prevailing in our dataset, so we need to handle the imbalance between real and fake news classes."
   ]
  },
  {
   "cell_type": "code",
   "execution_count": 18,
   "id": "4347afdf-557b-40b0-ac97-a7ff23b06f0d",
   "metadata": {},
   "outputs": [],
   "source": [
    "X_train_tfidf_resampled, y_train_tfidf_resampled = oversampler.fit_resample(X_train_tfidf, y_train)\n",
    "X_train_count_resampled, y_train_count_resampled = oversampler.fit_resample(X_train_count, y_train)"
   ]
  },
  {
   "cell_type": "markdown",
   "id": "dc9ba445-ccd2-4bfc-92c2-c134313b717f",
   "metadata": {},
   "source": [
    "Now, we will apply all of the above mentioned steps to our validation and test datasets, as well."
   ]
  },
  {
   "cell_type": "markdown",
   "id": "8f9eb174-d1d2-4205-b6f5-48dbed94559d",
   "metadata": {},
   "source": [
    "# VALIDATION DATA"
   ]
  },
  {
   "cell_type": "markdown",
   "id": "34da04eb-0dc2-4315-b1c8-96d8beed5280",
   "metadata": {},
   "source": [
    "### Clean"
   ]
  },
  {
   "cell_type": "code",
   "execution_count": 19,
   "id": "ebc3a64c-c77f-4600-a3e1-209cd9df76ce",
   "metadata": {},
   "outputs": [],
   "source": [
    "val_data['clean_text'] = val_data['text'].apply(preprocess_text)\n",
    "y_val = val_data['label']"
   ]
  },
  {
   "cell_type": "markdown",
   "id": "6a67cdbb-46a6-4375-93ed-722a3b9f6749",
   "metadata": {},
   "source": [
    "### Tf-Idf Vectorzier"
   ]
  },
  {
   "cell_type": "code",
   "execution_count": 20,
   "id": "63578b59-0d9f-4a19-bde9-05150ef1780e",
   "metadata": {},
   "outputs": [],
   "source": [
    "X_val_tfidf = tfidf_vectorizer.transform(val_data['clean_text'])"
   ]
  },
  {
   "cell_type": "markdown",
   "id": "41efe36f-30da-4a8b-bf64-da515ecf68f5",
   "metadata": {},
   "source": [
    "### Count Vectorizer"
   ]
  },
  {
   "cell_type": "code",
   "execution_count": 21,
   "id": "f0c763e7-a661-42bd-a267-c69b6390b3ac",
   "metadata": {},
   "outputs": [],
   "source": [
    "X_val_count = count_vectorizer.transform(val_data['clean_text'])"
   ]
  },
  {
   "cell_type": "markdown",
   "id": "384ee602-d485-43c8-bded-a5a846a6d126",
   "metadata": {},
   "source": [
    "### Handling Class Imbalance"
   ]
  },
  {
   "cell_type": "code",
   "execution_count": 22,
   "id": "b3ef2c42-b6f1-49d9-8021-cd74c371710a",
   "metadata": {},
   "outputs": [],
   "source": [
    "X_val_tfidf_resampled, y_val_tfidf_resampled = oversampler.fit_resample(X_val_tfidf, y_val)\n",
    "X_val_count_resampled, y_val_count_resampled = oversampler.fit_resample(X_val_count, y_val)"
   ]
  },
  {
   "cell_type": "markdown",
   "id": "c15b2371-1b95-4c73-b5dc-89148f69820b",
   "metadata": {},
   "source": [
    "# TEST DATA"
   ]
  },
  {
   "cell_type": "markdown",
   "id": "0246addb-4425-4436-bd94-b6ccbdd1526a",
   "metadata": {},
   "source": [
    "### Clean"
   ]
  },
  {
   "cell_type": "code",
   "execution_count": 23,
   "id": "f2f18af6-8111-4234-9dfc-bb7de2af6357",
   "metadata": {},
   "outputs": [],
   "source": [
    "test_data['clean_text'] = test_data['text'].apply(preprocess_text)"
   ]
  },
  {
   "cell_type": "markdown",
   "id": "54da6c2e-1831-4683-b58c-592df6c726c3",
   "metadata": {},
   "source": [
    "### Tf-Idf Vectorzier"
   ]
  },
  {
   "cell_type": "code",
   "execution_count": 24,
   "id": "8686af64-3700-4a4b-b0ce-0e30ff21af0c",
   "metadata": {},
   "outputs": [],
   "source": [
    "X_test_tfidf = tfidf_vectorizer.transform(test_data['clean_text'])\n",
    "y_test = test_data['label']"
   ]
  },
  {
   "cell_type": "markdown",
   "id": "90e1fc26-c608-4fd6-9129-0b7ea5843708",
   "metadata": {},
   "source": [
    "### Count Vectorizer"
   ]
  },
  {
   "cell_type": "code",
   "execution_count": 25,
   "id": "f87be672-750e-4ecf-9c4d-cc6fdc3ae4fc",
   "metadata": {},
   "outputs": [],
   "source": [
    "X_test_count = count_vectorizer.transform(test_data['clean_text'])"
   ]
  },
  {
   "cell_type": "markdown",
   "id": "5d363bdb-0632-4d16-adab-049c21c95926",
   "metadata": {},
   "source": [
    "### Handle Class Imbalance"
   ]
  },
  {
   "cell_type": "code",
   "execution_count": 26,
   "id": "bca0464f-2037-403c-a3c7-db62b97d1463",
   "metadata": {},
   "outputs": [],
   "source": [
    "X_test_tfidf_resampled, y_test_tfidf_resampled = oversampler.fit_resample(X_test_tfidf, y_test)\n",
    "X_test_count_resampled, y_test_count_resampled = oversampler.fit_resample(X_test_count, y_test)"
   ]
  },
  {
   "cell_type": "markdown",
   "id": "cc137445-a022-4c95-9691-68ba42c6ad67",
   "metadata": {},
   "source": [
    "# MULTINOMIAL NAIVE BAYES MODEL USING PACKAGE\n",
    "\n",
    "We have decided to employ the Multinomial Naive Bayes (MNB) model for modeling fake news detection.\n",
    "\n",
    "The Multinomial Naive Bayes (MNB) model is a suitable choice for fake news detecasks for several reasons:\n",
    "\n",
    "1. **Textual Data**: The dataset consists of text data, where each news article is repretokens. Multinomial Naive Bayes is a popular choice for text classification tasks due to its simplicity and effectiveness in handling textual data.\n",
    "\n",
    "2. **Multiclass Classification**: Fake news detection involves multiclass classification, where news articles are categorized into two classes: fake or real. Multinomial Naive Bayes is well-suited for multiclass classification problems and can efficiently handle multiple classes.\n",
    "\n",
    "3. **Assumption of Feature Independence**: Multinomial Naive Bayes assumes that features (words or tokens) are conditionally independent given the class label. While this assumption may not hold true in all cases, it often works well in practice, especially for text classification which is our case. While individual words or phrases in news articles may be related in meaning, the occurrence of one word or phrase is often independent of the occurrence of others, especially when conditioned on the article's class (fake or real). \n",
    "\n",
    "\n",
    "We begin by making use of the already implemented MultinomislNB class from the sklearn package to compare its performance with that of our implementation."
   ]
  },
  {
   "cell_type": "markdown",
   "id": "af4ef9b3-4194-4ddd-90f2-2b69a1680ddb",
   "metadata": {},
   "source": [
    "### Hyperparameter Tuning for Multinomial Naive Bayes Model\n",
    "\n",
    "Hyperparameter tuning is a crucial step in optimizing the performance of machine learning models. In this case, we are tuning the hyperparameter `alpha` for the Multinomial Naive Bayes (MNB) model.\n",
    "\n",
    "#### Why Hyperparameter Tuning?\n",
    "\n",
    "The `alpha` hyperparameter is a smoothing parameter used in Multinomial Naive Bayes to handle cases where certain words are absent in the training data but appear in the test data. Tuning this hyperparameter allows us to find the optimal value that improves the generalization ability of the model.\n",
    "\n",
    "#### How Hyperparameter Tuning is Done:\n",
    "\n",
    "1. **Define Grid of Hyperparameters**: We define a grid of `alpha` values to search over. These values are chosen based on a range of possible values that are likely to yield good performance.\n",
    "\n",
    "2. **Initialize Model**: We initialize a Multinomial Naive Bayes model without specifying any hyperparameters.\n",
    "\n",
    "3. **Grid Search with Cross-Validation**: We perform a grid search with cross-validation (5-fold) using the defined grid of hyperparameters. Each combination of hyperparameters is evaluated using cross-validation to estimate the model's performance.\n",
    "\n",
    "4. **Select Best Hyperparameter**: We select the best performing hyperparameter based on a chosen evaluation metric (in this case, accuracy). The best hyperparameter is the one that maximizes the model's performance on the validation set.\n",
    "\n",
    "5. **Use Best Hyperparameter**: Finally, we use the best hyperparameter obtained from the grid search to train the final model on the entire training dataset.\n",
    "\n",
    "\n",
    "The below provided code snippet demonstrates the process of hyperparameter tuning for the Multinomial Naive Bayes model using a grid search with cross-validation. After identifying the best `alpha` value, we use it to train the final model, ensuring optimal performance for fake news detection."
   ]
  },
  {
   "cell_type": "code",
   "execution_count": 27,
   "id": "2661c733-ce19-4978-9abf-ad6b45553b0b",
   "metadata": {},
   "outputs": [
    {
     "data": {
      "text/html": [
       "<style>#sk-container-id-1 {color: black;}#sk-container-id-1 pre{padding: 0;}#sk-container-id-1 div.sk-toggleable {background-color: white;}#sk-container-id-1 label.sk-toggleable__label {cursor: pointer;display: block;width: 100%;margin-bottom: 0;padding: 0.3em;box-sizing: border-box;text-align: center;}#sk-container-id-1 label.sk-toggleable__label-arrow:before {content: \"▸\";float: left;margin-right: 0.25em;color: #696969;}#sk-container-id-1 label.sk-toggleable__label-arrow:hover:before {color: black;}#sk-container-id-1 div.sk-estimator:hover label.sk-toggleable__label-arrow:before {color: black;}#sk-container-id-1 div.sk-toggleable__content {max-height: 0;max-width: 0;overflow: hidden;text-align: left;background-color: #f0f8ff;}#sk-container-id-1 div.sk-toggleable__content pre {margin: 0.2em;color: black;border-radius: 0.25em;background-color: #f0f8ff;}#sk-container-id-1 input.sk-toggleable__control:checked~div.sk-toggleable__content {max-height: 200px;max-width: 100%;overflow: auto;}#sk-container-id-1 input.sk-toggleable__control:checked~label.sk-toggleable__label-arrow:before {content: \"▾\";}#sk-container-id-1 div.sk-estimator input.sk-toggleable__control:checked~label.sk-toggleable__label {background-color: #d4ebff;}#sk-container-id-1 div.sk-label input.sk-toggleable__control:checked~label.sk-toggleable__label {background-color: #d4ebff;}#sk-container-id-1 input.sk-hidden--visually {border: 0;clip: rect(1px 1px 1px 1px);clip: rect(1px, 1px, 1px, 1px);height: 1px;margin: -1px;overflow: hidden;padding: 0;position: absolute;width: 1px;}#sk-container-id-1 div.sk-estimator {font-family: monospace;background-color: #f0f8ff;border: 1px dotted black;border-radius: 0.25em;box-sizing: border-box;margin-bottom: 0.5em;}#sk-container-id-1 div.sk-estimator:hover {background-color: #d4ebff;}#sk-container-id-1 div.sk-parallel-item::after {content: \"\";width: 100%;border-bottom: 1px solid gray;flex-grow: 1;}#sk-container-id-1 div.sk-label:hover label.sk-toggleable__label {background-color: #d4ebff;}#sk-container-id-1 div.sk-serial::before {content: \"\";position: absolute;border-left: 1px solid gray;box-sizing: border-box;top: 0;bottom: 0;left: 50%;z-index: 0;}#sk-container-id-1 div.sk-serial {display: flex;flex-direction: column;align-items: center;background-color: white;padding-right: 0.2em;padding-left: 0.2em;position: relative;}#sk-container-id-1 div.sk-item {position: relative;z-index: 1;}#sk-container-id-1 div.sk-parallel {display: flex;align-items: stretch;justify-content: center;background-color: white;position: relative;}#sk-container-id-1 div.sk-item::before, #sk-container-id-1 div.sk-parallel-item::before {content: \"\";position: absolute;border-left: 1px solid gray;box-sizing: border-box;top: 0;bottom: 0;left: 50%;z-index: -1;}#sk-container-id-1 div.sk-parallel-item {display: flex;flex-direction: column;z-index: 1;position: relative;background-color: white;}#sk-container-id-1 div.sk-parallel-item:first-child::after {align-self: flex-end;width: 50%;}#sk-container-id-1 div.sk-parallel-item:last-child::after {align-self: flex-start;width: 50%;}#sk-container-id-1 div.sk-parallel-item:only-child::after {width: 0;}#sk-container-id-1 div.sk-dashed-wrapped {border: 1px dashed gray;margin: 0 0.4em 0.5em 0.4em;box-sizing: border-box;padding-bottom: 0.4em;background-color: white;}#sk-container-id-1 div.sk-label label {font-family: monospace;font-weight: bold;display: inline-block;line-height: 1.2em;}#sk-container-id-1 div.sk-label-container {text-align: center;}#sk-container-id-1 div.sk-container {/* jupyter's `normalize.less` sets `[hidden] { display: none; }` but bootstrap.min.css set `[hidden] { display: none !important; }` so we also need the `!important` here to be able to override the default hidden behavior on the sphinx rendered scikit-learn.org. See: https://github.com/scikit-learn/scikit-learn/issues/21755 */display: inline-block !important;position: relative;}#sk-container-id-1 div.sk-text-repr-fallback {display: none;}</style><div id=\"sk-container-id-1\" class=\"sk-top-container\"><div class=\"sk-text-repr-fallback\"><pre>GridSearchCV(cv=5, estimator=MultinomialNB(),\n",
       "             param_grid={&#x27;alpha&#x27;: [0.01, 0.05, 0.1, 0.2, 0.3, 0.5, 0.7, 1.0,\n",
       "                                   1.2, 1.5, 2.0, 5.0, 10.0, 100.0]},\n",
       "             scoring=&#x27;accuracy&#x27;)</pre><b>In a Jupyter environment, please rerun this cell to show the HTML representation or trust the notebook. <br />On GitHub, the HTML representation is unable to render, please try loading this page with nbviewer.org.</b></div><div class=\"sk-container\" hidden><div class=\"sk-item sk-dashed-wrapped\"><div class=\"sk-label-container\"><div class=\"sk-label sk-toggleable\"><input class=\"sk-toggleable__control sk-hidden--visually\" id=\"sk-estimator-id-1\" type=\"checkbox\" ><label for=\"sk-estimator-id-1\" class=\"sk-toggleable__label sk-toggleable__label-arrow\">GridSearchCV</label><div class=\"sk-toggleable__content\"><pre>GridSearchCV(cv=5, estimator=MultinomialNB(),\n",
       "             param_grid={&#x27;alpha&#x27;: [0.01, 0.05, 0.1, 0.2, 0.3, 0.5, 0.7, 1.0,\n",
       "                                   1.2, 1.5, 2.0, 5.0, 10.0, 100.0]},\n",
       "             scoring=&#x27;accuracy&#x27;)</pre></div></div></div><div class=\"sk-parallel\"><div class=\"sk-parallel-item\"><div class=\"sk-item\"><div class=\"sk-label-container\"><div class=\"sk-label sk-toggleable\"><input class=\"sk-toggleable__control sk-hidden--visually\" id=\"sk-estimator-id-2\" type=\"checkbox\" ><label for=\"sk-estimator-id-2\" class=\"sk-toggleable__label sk-toggleable__label-arrow\">estimator: MultinomialNB</label><div class=\"sk-toggleable__content\"><pre>MultinomialNB()</pre></div></div></div><div class=\"sk-serial\"><div class=\"sk-item\"><div class=\"sk-estimator sk-toggleable\"><input class=\"sk-toggleable__control sk-hidden--visually\" id=\"sk-estimator-id-3\" type=\"checkbox\" ><label for=\"sk-estimator-id-3\" class=\"sk-toggleable__label sk-toggleable__label-arrow\">MultinomialNB</label><div class=\"sk-toggleable__content\"><pre>MultinomialNB()</pre></div></div></div></div></div></div></div></div></div></div>"
      ],
      "text/plain": [
       "GridSearchCV(cv=5, estimator=MultinomialNB(),\n",
       "             param_grid={'alpha': [0.01, 0.05, 0.1, 0.2, 0.3, 0.5, 0.7, 1.0,\n",
       "                                   1.2, 1.5, 2.0, 5.0, 10.0, 100.0]},\n",
       "             scoring='accuracy')"
      ]
     },
     "execution_count": 27,
     "metadata": {},
     "output_type": "execute_result"
    }
   ],
   "source": [
    "# Define the grid of hyperparameters to search\n",
    "param_grid = {'alpha': [0.01, 0.05, 0.1, 0.2, 0.3, 0.5, 0.7, 1.0, 1.2, 1.5, 2.0, 5.0, 10.0, 100.0]}  # Define alpha values to search\n",
    "\n",
    "# Initialize the Multinomial Naive Bayes model\n",
    "mnb_hyperpar = MultinomialNB()\n",
    "\n",
    "# Perform grid search using cross-validation\n",
    "grid_search = GridSearchCV(mnb_hyperpar, param_grid, cv=5, scoring='accuracy')\n",
    "\n",
    "# Fit the grid search to find the best hyperparameters\n",
    "grid_search.fit(X_train_count, y_train)"
   ]
  },
  {
   "cell_type": "code",
   "execution_count": 28,
   "id": "6292742a-3ed5-40d1-8864-4e1997620a79",
   "metadata": {},
   "outputs": [
    {
     "name": "stdout",
     "output_type": "stream",
     "text": [
      "Best Regularization strength:  0.05\n"
     ]
    }
   ],
   "source": [
    "# Getting the best hyperparameter\n",
    "best_alpha = grid_search.best_params_['alpha']\n",
    "print('Best Regularization strength: ', best_alpha)"
   ]
  },
  {
   "cell_type": "markdown",
   "id": "8e2d7ae9-a0c6-45db-b03b-9cbfe99eb0bc",
   "metadata": {},
   "source": [
    "The code snippet provided below initializes and fits the Multinomial Naive Bayes model using different feature representations (TF-IDF and Count) and datasets (original and resampled). It then evaluates the model's performance on validation and test sets, reporting accuracy scores for each configuration."
   ]
  },
  {
   "cell_type": "code",
   "execution_count": 29,
   "id": "bdb79d57-cd58-47e0-bd01-1e169c24afdd",
   "metadata": {},
   "outputs": [
    {
     "name": "stdout",
     "output_type": "stream",
     "text": [
      "Accuracy on valid set using MultinomialNB Tf-Idf: 0.9394088669950739\n",
      "Accuracy on the test data: 0.9405201714201271 \n",
      "\n",
      "Accuracy on valid set using MultinomialNB Tf-Idf resampled: 0.9395073891625616\n",
      "Accuracy on the test data: 0.9409634993350081 \n",
      "\n",
      "Accuracy on valid set using MultinomialNB Count: 0.9335467980295566\n",
      "Accuracy on the test data: 0.9335377567607507 \n",
      "\n",
      "Accuracy on valid set using MultinomialNB Count resampled: 0.9341133004926109\n",
      "Accuracy on the test data: 0.9348677405053938 \n",
      "\n"
     ]
    }
   ],
   "source": [
    "for i in [(X_train_tfidf, y_train, X_val_tfidf, 'Tf-Idf', X_test_tfidf),\n",
    "          (X_train_tfidf_resampled, y_train_tfidf_resampled, X_val_tfidf, 'Tf-Idf resampled', X_test_tfidf),\n",
    "          (X_train_count, y_train, X_val_count, 'Count', X_test_count),\n",
    "          (X_train_count_resampled, y_train_count_resampled, X_val_count, 'Count resampled', X_test_count)]:\n",
    "\n",
    "               \n",
    "                # Initialize and Fit the Model Using Train Set\n",
    "                mnb = MultinomialNB(alpha=best_alpha)  \n",
    "                mnb.fit(i[0], i[1])\n",
    "            \n",
    "                # Predict labels for valid data\n",
    "                y_pred_mnb = mnb.predict(i[2])\n",
    "                \n",
    "                # Check the Accuracy on Valid Set\n",
    "                accuracy_mnb = accuracy_score(y_val, y_pred_mnb) \n",
    "                print(f\"Accuracy on valid set using MultinomialNB {i[3]}:\", accuracy_mnb)\n",
    "            \n",
    "                # Predict labels for test data\n",
    "                predicted_labels = mnb.predict(i[4])  \n",
    "                \n",
    "                # Finalize on Test Set\n",
    "                accuracy = accuracy_score(y_test, predicted_labels)\n",
    "                print(\"Accuracy on the test data:\", accuracy, '\\n')\n"
   ]
  },
  {
   "cell_type": "markdown",
   "id": "31c0d3a2-70fd-4f12-aef6-9ed20d79f5dc",
   "metadata": {},
   "source": [
    "# MULTINOMIAL NAIVE BAYES MODEL IMPLEMENTATION"
   ]
  },
  {
   "cell_type": "markdown",
   "id": "fdb614c1-2ccb-46b9-8d9f-1fff3fba66fd",
   "metadata": {},
   "source": [
    "The Multinomial Naive Bayes classifier is designed based on the principles of the Naive Bayes algorithm, which is a probabilistic model that applies Bayes' theorem with strong (naive) independence assumptions between the features. The \"Multinomial\" part of the classifier's name refers to the probability distribution it assumes for the features (class conditional). So, using the Naive Bayes algorithm, we get the posterior ( $ Posterior ∝ Class Conditional × Class Prior $ ). More specifically, we get the logarithm of the posterior. When working with probabilities, especially when dealing with small probabilities or multiplying many probabilities together, the values can become very small, leading to numerical underflow. Taking logarithms helps prevent numerical instability by transforming products of probabilities into sums of logarithms  and thenassigning the text to the class with a  higher probability."
   ]
  },
  {
   "cell_type": "markdown",
   "id": "7c45644c-9553-44b2-a283-f4e44845eae5",
   "metadata": {},
   "source": [
    "1. **Class Prior Calculation:**\n",
    "   $$ P(Y = y_i) = \\frac{{N_{y_i} + \\alpha}}{{N + \\alpha \\times K}} $$\n",
    "   *Where:*\n",
    " \n",
    "   - $ N $ is the total number of samples.\n",
    "   - $ N_{y_i} $ is the number of samples with class $ y_i $.\n",
    "   - $ K $ is the number of classes.\n",
    "   - $ \\alpha $ is the smoothing parameter.\n"
   ]
  },
  {
   "cell_type": "markdown",
   "id": "88d36d6c-7a01-4a61-adf9-edf76e1ee3da",
   "metadata": {},
   "source": [
    "2. **Feature Probability Calculation:**\n",
    "   $$ P(X_j = x_{ji} | Y = y_i) = \\frac{{N_{y_i, x_{ji}} + \\alpha}}{{N_{y_i} + \\alpha \\times D}} $$\n",
    "   *Where:*\n",
    "   \n",
    "   - $ N_{y_i, x_{ji}} $ is the number of times feature $ x_{ji} $ appears in samples of class $ y_i $.\n",
    "   - $ D $ is the total number of features (words or tokens)\n",
    "  "
   ]
  },
  {
   "cell_type": "markdown",
   "id": "c697925f-0aaa-4d3d-8029-918941cd9a41",
   "metadata": {},
   "source": [
    "3. **Log Probability Calculation:**\n",
    "      $$ \\log(P(Y = y_i | X)) = \\log(P(Y = y_i)) + \\sum_{j=1}^{D} X_j \\times \\log(P(X_j | Y = y_i)) $$\n",
    "\n"
   ]
  },
  {
   "cell_type": "markdown",
   "id": "67e7c7ee-1562-4069-9ad5-3241ccafcab9",
   "metadata": {},
   "source": [
    "4. **Prediction:**\n",
    "   $$ \\hat{y} = \\arg\\max_{y_i} \\log(P(Y = y_i | X)) $$\n",
    "   *Where:*\n",
    "   - $ X $ is the input feature vector.\n",
    "   - $ Y $ is the set of possible classes.\n",
    "   - $ X_j $ is the $ j $-th feature in the input vector $ X $.\n",
    "   - $ x_{ji} $ represents the $ i $-th value of feature $ j $.\n",
    "   - $ \\hat{y} $ is the predicted class label."
   ]
  },
  {
   "cell_type": "code",
   "execution_count": 30,
   "id": "6899004c-5ec4-4860-abc1-2edb76fdc564",
   "metadata": {},
   "outputs": [],
   "source": [
    "class MultinomialNaiveBayes:\n",
    "    def __init__(self, alpha=1.0):\n",
    "        \"\"\"\n",
    "        Multinomial Naive Bayes classifier for text classification tasks.\n",
    "    \n",
    "        Parameters:\n",
    "        -----------\n",
    "        alpha : float, default=1.0\n",
    "            Smoothing parameter for Laplace smoothing.\n",
    "    \n",
    "        Attributes:\n",
    "        -----------\n",
    "        alpha : float\n",
    "            Smoothing parameter for Laplace smoothing.\n",
    "        class_prior : array-like\n",
    "            Prior probabilities of each class.\n",
    "        feature_prob : array-like\n",
    "            Probability of each feature given each class.\n",
    "        classes : array-like\n",
    "            Unique classes in the training data.\n",
    "        \"\"\"\n",
    "\n",
    "        \n",
    "        self.alpha = alpha  # Smoothing parameter\n",
    "        self.class_prior = None\n",
    "        self.feature_prob = None\n",
    "        self.classes = None\n",
    "\n",
    "    def fit(self, X, y):\n",
    "        \"\"\"\n",
    "        Fit the Multinomial Naive Bayes classifier to the training data.\n",
    "\n",
    "        Args:\n",
    "        X (array-like, shape (n_samples, n_features)): Training samples.\n",
    "        y (array-like, shape (n_samples,)): Target values.\n",
    "\n",
    "        Returns:\n",
    "        None\n",
    "        \"\"\"\n",
    "        \n",
    "        n_samples, n_features = X.shape\n",
    "        self.classes = np.unique(y)\n",
    "        n_classes = len(self.classes)\n",
    "\n",
    "        # Initialize class prior and feature probabilities arrays\n",
    "        self.class_prior = np.zeros(n_classes)\n",
    "        self.feature_prob = np.zeros((n_classes, n_features))\n",
    "\n",
    "        # Compute class prior and feature probabilities\n",
    "        for i, c in enumerate(self.classes):\n",
    "            X_c = X[y == c]\n",
    "            class_prior_smoothed = (X_c.shape[0] + self.alpha) / (n_samples + self.alpha * n_classes)\n",
    "            self.class_prior[i] = class_prior_smoothed\n",
    "            total_word_counts = np.sum(X_c)\n",
    "            self.feature_prob[i, :] = (np.sum(X_c, axis=0) + self.alpha) / (total_word_counts + self.alpha * n_features)\n",
    "\n",
    "    def predict(self, X):\n",
    "        \"\"\"\n",
    "        Predict the class labels for the input samples.\n",
    "\n",
    "        Args:\n",
    "        X (array-like, shape (n_samples, n_features)): Input samples.\n",
    "\n",
    "        Returns:\n",
    "        array, shape (n_samples,): Predicted class labels.\n",
    "        \"\"\"\n",
    "        \n",
    "        n_samples = X.shape[0]\n",
    "        scores = np.zeros((n_samples, len(self.classes)))\n",
    "\n",
    "        # Compute log probabilities for each class\n",
    "        for i, c in enumerate(self.classes):\n",
    "            class_prior = self.class_prior[i]\n",
    "            feature_prob = self.feature_prob[i, :]\n",
    "            scores[:, i] = np.log(class_prior) + X.dot(np.log(feature_prob))\n",
    "\n",
    "        # Predict the class with the highest score for each sample\n",
    "        return self.classes[np.argmax(scores, axis=1)]\n"
   ]
  },
  {
   "cell_type": "markdown",
   "id": "7176607e-4370-4115-a296-d584848f1963",
   "metadata": {},
   "source": [
    "The code snippet provided below initializes and fits the Multinomial Naive Bayes model (implemented one) using different feature representations (TF-IDF and Count) and datasets (original and resampled). It then evaluates the model's performance on validation and test sets, reporting accuracy scores for each configuration."
   ]
  },
  {
   "cell_type": "code",
   "execution_count": 31,
   "id": "dc9fe315-11ee-4d4c-9085-bfa2421a31cb",
   "metadata": {},
   "outputs": [
    {
     "name": "stdout",
     "output_type": "stream",
     "text": [
      "Accuracy on valid set using MultinomialNB Tf-Idf: 0.9394088669950739\n",
      "Accuracy on the test data: 0.9405201714201271 \n",
      "\n",
      "Accuracy on valid set using MultinomialNB Tf-Idf resampled: 0.9395073891625616\n",
      "Accuracy on the test data: 0.9409634993350081 \n",
      "\n",
      "Accuracy on valid set using MultinomialNB Count: 0.9335467980295566\n",
      "Accuracy on the test data: 0.9335377567607507 \n",
      "\n",
      "Accuracy on valid set using MultinomialNB Count resampled: 0.9341133004926109\n",
      "Accuracy on the test data: 0.9348677405053938 \n",
      "\n"
     ]
    }
   ],
   "source": [
    "for i in [(X_train_tfidf, y_train, X_val_tfidf, 'Tf-Idf', X_test_tfidf),\n",
    "          (X_train_tfidf_resampled, y_train_tfidf_resampled, X_val_tfidf, 'Tf-Idf resampled', X_test_tfidf),\n",
    "          (X_train_count, y_train, X_val_count, 'Count', X_test_count),\n",
    "          (X_train_count_resampled, y_train_count_resampled, X_val_count, 'Count resampled', X_test_count)]:\n",
    "               \n",
    "                # Initialize and Fit the Model Using Train Set\n",
    "                mnb = MultinomialNaiveBayes(alpha=best_alpha)  \n",
    "                mnb.fit(i[0], i[1])\n",
    "            \n",
    "                # Predict labels for valid data\n",
    "                y_pred_mnb = mnb.predict(i[2])\n",
    "                \n",
    "                # Check the Accuracy on Valid Set\n",
    "                accuracy_mnb = accuracy_score(y_val, y_pred_mnb) \n",
    "                print(f\"Accuracy on valid set using MultinomialNB {i[3]}:\", accuracy_mnb)\n",
    "            \n",
    "                # Predict labels for test data\n",
    "                predicted_labels = mnb.predict(i[4])  \n",
    "                \n",
    "                # Finalize on Test Set\n",
    "                accuracy = accuracy_score(y_test, predicted_labels)\n",
    "                print(\"Accuracy on the test data:\", accuracy, '\\n')\n"
   ]
  },
  {
   "cell_type": "markdown",
   "id": "403a3419-cca7-4c8d-ae9b-e3a038c3c37d",
   "metadata": {},
   "source": [
    "# GAUSSIAN NAIVE BAYES MODEL USING PACKAGE\n",
    "\n",
    "We have also decided to explore the Gaussian Naive Bayes (GNB) model for modeling fake news detection, alongside the Multinomial Naive Bayes (MNB) model.\n",
    "\n",
    "The Gaussian Naive Bayes (GNB) model is another suitable choice for fake news detection, especially when dealing with continuous features or data that can be reasonably assumed to follow a Gaussian (normal) distribution. While MNB is commonly used for text classification tasks, GNB can be effective when dealing with numeric features (which we get by different types of numeric representations of words already explained above).\n",
    "\n",
    "Similar to MNB, GNB also offers several advantages:\n",
    "\n",
    "1. **Multiclass Classification**: GNB can handle multiclass classification problems where news articles need to be categorized into two classes: fake or real. It is well-suited for scenarios where the features can be assumed to follow a Gaussian distribution. In our case we make that assumption since the aggregated counts of words across multiple documents(rows of data) may tend to approximate a Gaussian distribution, especially when considering a large vocabulary. Additionally, when using techniques like TF-IDF, the resulting feature space may exhibit more Gaussian-like behavior due to normalization and weighting.\n",
    "\n",
    "2. **Assumption of Feature Independence**: Like MNB, GNB also assumes that features are conditionally independent given the class label. This simplifies the modeling process and makes GNB computationally efficient, especially for our large datasets. Each news article typically focuses on a specific topic or event, and the choice of words or phrases within the article is influenced by its subject matter. However, the independence assumption holds that the presence or absence of specific terms within an article is determined primarily by whether the article is fake or real, rather than by interactions between the terms themselves. \n",
    "\n",
    "3. **Robustness to Noisy Data**: GNB is known for its robustness to noisy data and its ability to handle missing values. It can perform well even when some assumptions of the underlying data distribution are violated.\n",
    "\n",
    "We will proceed to implement the Gaussian Naive Bayes model using the `GaussianNB` class from the `sklearn` package and evaluate its performance alongside Custom GNB the (Custom) MNB model.\n"
   ]
  },
  {
   "cell_type": "markdown",
   "id": "497587ce-7094-4797-b6b0-2b2994784f00",
   "metadata": {},
   "source": [
    "### Hyperparameter Tuning for Gaussian Naive Bayes Model\r\n",
    ". In the case of Gaussian Naive Bayes (GNB), one of the critical hyperparameters to tune is `var_smoothing`.\r\n",
    "\r\n",
    "#### Why Hyperparameter Tuning?\r\n",
    "\r\n",
    "The `var_smoothing` hyperparameter is a smoothing parameter used to stabilize the computation of probabilities, especially when dealing with features with zero variance. By tuning this hyperparameter, we aim to find an optimal value that enhances the model's generalization capability.\r\n",
    "\r\n",
    "#### How Hyperparameter Tuning is Done:\r\n",
    "\r\n",
    "1. **Define Grid of Hyperparameters**: We define a grid of `var_smoothing` values to search over. These values are chosen based on a range of possible values that are likely to yield good performance.\r\n",
    "\r\n",
    "2. **Initialize Model**: We initialize a Gaussian Naive Bayes model without specifying any hyperparameters.\r\n",
    "\r\n",
    "3. **Grid Search with Cross-Validation**: We perform a grid search with cross-validation (5-fold) using the defined grid of hyperparameters. Each combination of hyperparameters is evaluated using cross-validation to estimate the model's performance.\r\n",
    "\r\n",
    "4. **Select Best Hyperparameter**: We select the best-performing hyperparameter based on a chosen evaluation metric (in this case, accuracy). The best hyperparameter is the one that maximizes the model's performance on the validation set.\r\n",
    "\r\n",
    "5. **Use Best Hyperparameter**: Finally, we use the best hyperparameter obtained from the grid search to train the final model on the entire training dataset.\r\n",
    "\r\n",
    "The provided code snippet below demonstrates the process of hyperparameter tuning for the Gaussian Naive Bayes model using a grid search with cross-validation. After identifying the best `var_smoothing` value, we use it to train the final model, ensuring optimal performance for ake news detection.\r\n"
   ]
  },
  {
   "cell_type": "code",
   "execution_count": 32,
   "id": "a0739557-fa5f-4846-b29d-8ee5c001ceea",
   "metadata": {},
   "outputs": [
    {
     "data": {
      "text/html": [
       "<style>#sk-container-id-2 {color: black;}#sk-container-id-2 pre{padding: 0;}#sk-container-id-2 div.sk-toggleable {background-color: white;}#sk-container-id-2 label.sk-toggleable__label {cursor: pointer;display: block;width: 100%;margin-bottom: 0;padding: 0.3em;box-sizing: border-box;text-align: center;}#sk-container-id-2 label.sk-toggleable__label-arrow:before {content: \"▸\";float: left;margin-right: 0.25em;color: #696969;}#sk-container-id-2 label.sk-toggleable__label-arrow:hover:before {color: black;}#sk-container-id-2 div.sk-estimator:hover label.sk-toggleable__label-arrow:before {color: black;}#sk-container-id-2 div.sk-toggleable__content {max-height: 0;max-width: 0;overflow: hidden;text-align: left;background-color: #f0f8ff;}#sk-container-id-2 div.sk-toggleable__content pre {margin: 0.2em;color: black;border-radius: 0.25em;background-color: #f0f8ff;}#sk-container-id-2 input.sk-toggleable__control:checked~div.sk-toggleable__content {max-height: 200px;max-width: 100%;overflow: auto;}#sk-container-id-2 input.sk-toggleable__control:checked~label.sk-toggleable__label-arrow:before {content: \"▾\";}#sk-container-id-2 div.sk-estimator input.sk-toggleable__control:checked~label.sk-toggleable__label {background-color: #d4ebff;}#sk-container-id-2 div.sk-label input.sk-toggleable__control:checked~label.sk-toggleable__label {background-color: #d4ebff;}#sk-container-id-2 input.sk-hidden--visually {border: 0;clip: rect(1px 1px 1px 1px);clip: rect(1px, 1px, 1px, 1px);height: 1px;margin: -1px;overflow: hidden;padding: 0;position: absolute;width: 1px;}#sk-container-id-2 div.sk-estimator {font-family: monospace;background-color: #f0f8ff;border: 1px dotted black;border-radius: 0.25em;box-sizing: border-box;margin-bottom: 0.5em;}#sk-container-id-2 div.sk-estimator:hover {background-color: #d4ebff;}#sk-container-id-2 div.sk-parallel-item::after {content: \"\";width: 100%;border-bottom: 1px solid gray;flex-grow: 1;}#sk-container-id-2 div.sk-label:hover label.sk-toggleable__label {background-color: #d4ebff;}#sk-container-id-2 div.sk-serial::before {content: \"\";position: absolute;border-left: 1px solid gray;box-sizing: border-box;top: 0;bottom: 0;left: 50%;z-index: 0;}#sk-container-id-2 div.sk-serial {display: flex;flex-direction: column;align-items: center;background-color: white;padding-right: 0.2em;padding-left: 0.2em;position: relative;}#sk-container-id-2 div.sk-item {position: relative;z-index: 1;}#sk-container-id-2 div.sk-parallel {display: flex;align-items: stretch;justify-content: center;background-color: white;position: relative;}#sk-container-id-2 div.sk-item::before, #sk-container-id-2 div.sk-parallel-item::before {content: \"\";position: absolute;border-left: 1px solid gray;box-sizing: border-box;top: 0;bottom: 0;left: 50%;z-index: -1;}#sk-container-id-2 div.sk-parallel-item {display: flex;flex-direction: column;z-index: 1;position: relative;background-color: white;}#sk-container-id-2 div.sk-parallel-item:first-child::after {align-self: flex-end;width: 50%;}#sk-container-id-2 div.sk-parallel-item:last-child::after {align-self: flex-start;width: 50%;}#sk-container-id-2 div.sk-parallel-item:only-child::after {width: 0;}#sk-container-id-2 div.sk-dashed-wrapped {border: 1px dashed gray;margin: 0 0.4em 0.5em 0.4em;box-sizing: border-box;padding-bottom: 0.4em;background-color: white;}#sk-container-id-2 div.sk-label label {font-family: monospace;font-weight: bold;display: inline-block;line-height: 1.2em;}#sk-container-id-2 div.sk-label-container {text-align: center;}#sk-container-id-2 div.sk-container {/* jupyter's `normalize.less` sets `[hidden] { display: none; }` but bootstrap.min.css set `[hidden] { display: none !important; }` so we also need the `!important` here to be able to override the default hidden behavior on the sphinx rendered scikit-learn.org. See: https://github.com/scikit-learn/scikit-learn/issues/21755 */display: inline-block !important;position: relative;}#sk-container-id-2 div.sk-text-repr-fallback {display: none;}</style><div id=\"sk-container-id-2\" class=\"sk-top-container\"><div class=\"sk-text-repr-fallback\"><pre>GridSearchCV(cv=5, estimator=GaussianNB(),\n",
       "             param_grid={&#x27;var_smoothing&#x27;: [0.01, 0.05, 0.1, 0.2, 0.3, 0.5, 0.7,\n",
       "                                           1.0, 1.2, 1.5, 2.0, 5.0, 10.0,\n",
       "                                           100.0]},\n",
       "             scoring=&#x27;accuracy&#x27;)</pre><b>In a Jupyter environment, please rerun this cell to show the HTML representation or trust the notebook. <br />On GitHub, the HTML representation is unable to render, please try loading this page with nbviewer.org.</b></div><div class=\"sk-container\" hidden><div class=\"sk-item sk-dashed-wrapped\"><div class=\"sk-label-container\"><div class=\"sk-label sk-toggleable\"><input class=\"sk-toggleable__control sk-hidden--visually\" id=\"sk-estimator-id-4\" type=\"checkbox\" ><label for=\"sk-estimator-id-4\" class=\"sk-toggleable__label sk-toggleable__label-arrow\">GridSearchCV</label><div class=\"sk-toggleable__content\"><pre>GridSearchCV(cv=5, estimator=GaussianNB(),\n",
       "             param_grid={&#x27;var_smoothing&#x27;: [0.01, 0.05, 0.1, 0.2, 0.3, 0.5, 0.7,\n",
       "                                           1.0, 1.2, 1.5, 2.0, 5.0, 10.0,\n",
       "                                           100.0]},\n",
       "             scoring=&#x27;accuracy&#x27;)</pre></div></div></div><div class=\"sk-parallel\"><div class=\"sk-parallel-item\"><div class=\"sk-item\"><div class=\"sk-label-container\"><div class=\"sk-label sk-toggleable\"><input class=\"sk-toggleable__control sk-hidden--visually\" id=\"sk-estimator-id-5\" type=\"checkbox\" ><label for=\"sk-estimator-id-5\" class=\"sk-toggleable__label sk-toggleable__label-arrow\">estimator: GaussianNB</label><div class=\"sk-toggleable__content\"><pre>GaussianNB()</pre></div></div></div><div class=\"sk-serial\"><div class=\"sk-item\"><div class=\"sk-estimator sk-toggleable\"><input class=\"sk-toggleable__control sk-hidden--visually\" id=\"sk-estimator-id-6\" type=\"checkbox\" ><label for=\"sk-estimator-id-6\" class=\"sk-toggleable__label sk-toggleable__label-arrow\">GaussianNB</label><div class=\"sk-toggleable__content\"><pre>GaussianNB()</pre></div></div></div></div></div></div></div></div></div></div>"
      ],
      "text/plain": [
       "GridSearchCV(cv=5, estimator=GaussianNB(),\n",
       "             param_grid={'var_smoothing': [0.01, 0.05, 0.1, 0.2, 0.3, 0.5, 0.7,\n",
       "                                           1.0, 1.2, 1.5, 2.0, 5.0, 10.0,\n",
       "                                           100.0]},\n",
       "             scoring='accuracy')"
      ]
     },
     "execution_count": 32,
     "metadata": {},
     "output_type": "execute_result"
    }
   ],
   "source": [
    "# Define the grid of hyperparameters to search\n",
    "param_grid = {'var_smoothing': [0.01, 0.05, 0.1, 0.2, 0.3, 0.5, 0.7, 1.0, 1.2, 1.5, 2.0, 5.0, 10.0, 100.0]}  # Define alpha values to search\n",
    "\n",
    "# Initialize the Gaussian Naive Bayes model\n",
    "gnb_hyperpar = GaussianNB()\n",
    "\n",
    "# Perform grid search using cross-validation\n",
    "grid_search = GridSearchCV(gnb_hyperpar, param_grid, cv=5, scoring='accuracy')\n",
    "\n",
    "# Fit the grid search to find the best hyperparameters\n",
    "svd.fit(X_train_tfidf)\n",
    "grid_search.fit(svd.transform(X_train_tfidf), y_train)"
   ]
  },
  {
   "cell_type": "code",
   "execution_count": 33,
   "id": "e70eb78b-9975-451d-9828-9048f314f423",
   "metadata": {},
   "outputs": [
    {
     "name": "stdout",
     "output_type": "stream",
     "text": [
      "Best Regularization strength:  0.05\n"
     ]
    }
   ],
   "source": [
    "# Getting the best hyperparameter\n",
    "best_var_smoothing = grid_search.best_params_['var_smoothing']\n",
    "print('Best Regularization strength: ', best_var_smoothing)"
   ]
  },
  {
   "cell_type": "markdown",
   "id": "180401d4-ae99-40ff-b0fd-05ce63d0fb84",
   "metadata": {},
   "source": [
    "The code snippet provided below initializes and fits the Gaussian Naive Bayes model using different feature representations (TF-IDF and Count) and datasets (original and resampled) in **a reduced feature space**. It then evaluates the model's performance on validation and test sets, reporting accuracy scores for each configuration."
   ]
  },
  {
   "cell_type": "code",
   "execution_count": 34,
   "id": "1907d47b-7bb6-4d50-995d-8a7c1b672602",
   "metadata": {},
   "outputs": [
    {
     "name": "stdout",
     "output_type": "stream",
     "text": [
      "Accuracy on valid set using GaussianNB Tf-Idf: 0.8343596059113301\n",
      "Accuracy on the test data: 0.8371139352741245 \n",
      "\n",
      "Accuracy on valid set using GaussianNB Tf-Idf resampled: 0.8346305418719212\n",
      "Accuracy on the test data: 0.8364119994088961 \n",
      "\n",
      "Accuracy on valid set using GaussianNB Count: 0.8026600985221675\n",
      "Accuracy on the test data: 0.8039382296438599 \n",
      "\n",
      "Accuracy on valid set using GaussianNB Count resampled: 0.8053448275862068\n",
      "Accuracy on the test data: 0.8068198610905867 \n",
      "\n"
     ]
    }
   ],
   "source": [
    "for i in [(X_train_tfidf, y_train, X_val_tfidf, 'Tf-Idf', X_test_tfidf),\n",
    "          (X_train_tfidf_resampled, y_train_tfidf_resampled, X_val_tfidf, 'Tf-Idf resampled', X_test_tfidf),\n",
    "          (X_train_count, y_train, X_val_count, 'Count', X_test_count),\n",
    "          (X_train_count_resampled, y_train_count_resampled, X_val_count, 'Count resampled', X_test_count)]:\n",
    "\n",
    "    \n",
    "                # Initialize and Fit the Model Using Train Set\n",
    "                gnb = GaussianNB(var_smoothing=best_var_smoothing) \n",
    "                gnb.fit(svd.transform(i[0]), i[1])\n",
    "            \n",
    "                # Predict labels for valid data\n",
    "                y_pred_gnb = gnb.predict(svd.transform(i[2]))\n",
    "                \n",
    "                # Check the Accuracy on Valid Set\n",
    "                accuracy_gnb = accuracy_score(y_val, y_pred_gnb) \n",
    "                print(f\"Accuracy on valid set using GaussianNB {i[3]}:\", accuracy_gnb)\n",
    "            \n",
    "                # Predict labels for test data\n",
    "                predicted_labels = gnb.predict(svd.transform(i[4])) \n",
    "                \n",
    "                # Finalize on Test Set\n",
    "                accuracy = accuracy_score(y_test, predicted_labels)\n",
    "                print(\"Accuracy on the test data:\", accuracy, '\\n')\n"
   ]
  },
  {
   "cell_type": "markdown",
   "id": "96dca89e-e269-452a-b99b-6378a541f7f6",
   "metadata": {},
   "source": [
    "# GAUSSIAN NAIVE BAYES MODEL IMPLEMENTATION\n",
    "\n",
    "The Gaussian Naive Bayes (GNB) classifier is designed based on the principles of the Naive Bayes algorithm, similar to the Multinomial Naive Bayes model. However, instead of assuming a multinomial distribution for the features, GNB assumes a Gaussian distribution. The Gaussian Naive Bayes classifier calculates the log-likelihood of the data given each class using the Gaussian probability density function. It then combines the log-likelihood with the log prior probability to compute the log posterior probability. Finally, it assigns the class with the highest log probability as the predicted class label for each example."
   ]
  },
  {
   "cell_type": "markdown",
   "id": "4e4ec9b8-8f6f-4a5d-bf68-2f6262c0bba7",
   "metadata": {},
   "source": [
    ".\r\n",
    "\r\n",
    "1. **Class Prior Calculation:**\r\n",
    "   $$ P(Y = y_i) = \\frac{{N_{y_i} + \\alpha}}{{N + \\alpha \\times K}} $$\r\n",
    "   *Where:*\r\n",
    "   - $ N $ is the total number of samples.\r\n",
    "   - $ N_{y_i} $ is the number of samples with class $ y_i $.\r\n",
    "   - $ K $ is the number of classes.\r\n",
    "   - $ \\alpha $ is the smoothing pad class label for each example.\r\n"
   ]
  },
  {
   "cell_type": "markdown",
   "id": "32d9259a-9575-4cdd-9018-9964a0fdd6a7",
   "metadata": {},
   "source": [
    "2. **Feature Probability Calculation:**\n",
    "   $$ P(X_j = x_{ji} | Y = y_i) = \\frac{1}{{\\sqrt{2\\pi}\\sigma_{y_i,j}}} \\exp\\left(-\\frac{(x_{ji} - \\mu_{y_i,j})^2}{2\\sigma_{y_i,j}^2}\\right) $$\n",
    "   *Where:*\n",
    "   - $ \\mu_{y_i,j} $ is the mean of feature $ j $ in samples of class $ y_i $.\n",
    "   - $ \\sigma_{y_i,j} $ is the standard deviation of feature $ j $ in samples of class $ y_i $.\n",
    "\n"
   ]
  },
  {
   "cell_type": "markdown",
   "id": "5e2f3910-b8b5-4b6f-a46f-fe91885c9125",
   "metadata": {},
   "source": [
    "3. **Log Probability Calculation:**\n",
    "   $$ \\log(P(Y = y_i | X)) = \\log(P(Y = y_i)) + \\sum_{j=1}^{D} \\log(P(X_j = x_{ji} | Y = y_i)) $$\n",
    "   *Where:*\n",
    "   - $ D $ is the total number of features.\n",
    "   - $ X_j $ is the $ j $-th feature in the input vector $ X $.\n",
    "   - $ x_{ji} $ represents the $ i $-th value of feature $ j $.\n",
    "\n"
   ]
  },
  {
   "cell_type": "markdown",
   "id": "7f6aa9e2-ff37-4095-ac8e-cc688fc739cc",
   "metadata": {},
   "source": [
    "4. **Prediction:**\n",
    "   $$ \\hat{y} = \\arg\\max_{y_i} \\log(P(Y = y_i | X)) $$\n",
    "   *Where:*\n",
    "   - $ X $ is the input feature vector.\n",
    "   - $ Y $ is the set of possible classes.\n",
    "   - $ \\hat{y} $ is the predicted class label.\n",
    "\n"
   ]
  },
  {
   "cell_type": "code",
   "execution_count": 35,
   "id": "2ee8eb07-d15c-4c38-a9de-7263f46f31cb",
   "metadata": {},
   "outputs": [],
   "source": [
    "class GaussianNaiveBayes:\n",
    "    \"\"\"\n",
    "    Gaussian Naive Bayes classifier for classification tasks assuming Gaussian (normal) distribution for features.\n",
    "\n",
    "    Parameters:\n",
    "    -----------\n",
    "    alpha : float, default=1.0\n",
    "        Smoothing parameter for Laplace smoothing to handle zero probabilities.\n",
    "    \n",
    "    Attributes:\n",
    "    -----------\n",
    "    classes : array-like\n",
    "        Unique classes in the training data.\n",
    "    class_prior : array-like\n",
    "        Prior probabilities of each class.\n",
    "    mean : dict\n",
    "        Mean of each feature for each class.\n",
    "    std : dict\n",
    "        Standard deviation of each feature for each class.\n",
    "    alpha : float\n",
    "        Smoothing parameter for Laplace smoothing.\n",
    "    \"\"\"\n",
    "\n",
    "    \n",
    "    def __init__(self, alpha=1.0):\n",
    "        \"\"\"\n",
    "        Initialize Gaussian Naive Bayes classifier.\n",
    "\n",
    "        Parameters:\n",
    "        -----------\n",
    "        alpha : float, default=1.0\n",
    "            Smoothing parameter for Laplace smoothing to handle zero probabilities.\n",
    "        \"\"\"\n",
    "        \n",
    "        self.classes = None\n",
    "        self.class_prior = None\n",
    "        self.mean = None\n",
    "        self.std = None\n",
    "        self.alpha = alpha\n",
    "    \n",
    "    def fit(self, X_train, y_train):\n",
    "        \"\"\"\n",
    "        Fit the Gaussian Naive Bayes classifier to the training data.\n",
    "\n",
    "        Parameters:\n",
    "        -----------\n",
    "        X_train : array-like of shape (n_samples, n_features)\n",
    "            Training samples.\n",
    "        y_train : array-like of shape (n_samples,)\n",
    "            Target values.\n",
    "\n",
    "        Returns:\n",
    "        --------\n",
    "        self : object\n",
    "            Fitted GaussianNaiveBayes object.\n",
    "        \"\"\"\n",
    "        \n",
    "        # Calculate class priors\n",
    "        self.classes, counts = np.unique(y_train, return_counts=True)\n",
    "        self.class_prior = (counts + self.alpha) / (len(y_train) + len(self.classes) * self.alpha)\n",
    "        \n",
    "        # Initialize dictionaries to store mean and standard deviation for each class and feature\n",
    "        self.mean = {}\n",
    "        self.std = {}\n",
    "        \n",
    "        # Calculate mean and standard deviation for each feature in each class\n",
    "        for cls in self.classes:\n",
    "            cls_data = X_train[y_train == cls]\n",
    "            self.mean[cls] = np.mean(cls_data, axis=0)\n",
    "            self.std[cls] = np.std(cls_data, axis=0)        \n",
    "    \n",
    "    def predict(self, X_test):\n",
    "        \"\"\"\n",
    "        Predict class labels for test data.\n",
    "\n",
    "        Parameters:\n",
    "        -----------\n",
    "        X_test : array-like of shape (n_samples, n_features)\n",
    "            Test samples.\n",
    "\n",
    "        Returns:\n",
    "        --------\n",
    "        array-like of shape (n_samples,)\n",
    "            Predicted class labels.\n",
    "        \"\"\"\n",
    "        \n",
    "        # Initialize array to store predicted class probabilities for each example\n",
    "        class_probs = np.zeros((X_test.shape[0], len(self.classes)))\n",
    "        \n",
    "        # Calculate log-likelihood for each class\n",
    "        for i, cls in enumerate(self.classes):\n",
    "            # Compute log-likelihood using Gaussian probability density function\n",
    "            log_likelihood = -0.5 * np.sum(((X_test - self.mean[cls]) / self.std[cls]) ** 2 + np.log(2 * np.pi * self.std[cls] ** 2), axis=1)\n",
    "            \n",
    "            # Add log prior probability\n",
    "            log_posterior = log_likelihood + np.log(self.class_prior[i])\n",
    "            class_probs[:, i] = log_posterior\n",
    "        \n",
    "        # Assign class with highest log probability\n",
    "        predicted_classes = np.argmax(class_probs, axis=1)\n",
    "        return self.classes[predicted_classes]\n"
   ]
  },
  {
   "cell_type": "markdown",
   "id": "83af02cc-6789-4f48-9baa-2acb2eaeef28",
   "metadata": {},
   "source": [
    "The code snippet provided below initializes and fits the Gaussian Naive Bayes model using different feature representations (TF-IDF and Count) and datasets (original and resampled) in **a reduced feature space**. It then evaluates the model's performance on validation and test sets, reporting accuracy scores for each configuration."
   ]
  },
  {
   "cell_type": "code",
   "execution_count": 36,
   "id": "7a0d7560-0391-4310-a343-268ef1e12480",
   "metadata": {
    "scrolled": true
   },
   "outputs": [
    {
     "name": "stdout",
     "output_type": "stream",
     "text": [
      "Accuracy on valid set using Custom GaussianNB Tf-Idf: 0.8221428571428572\n",
      "Accuracy on the test data: 0.8243313137283877 \n",
      "\n",
      "Accuracy on valid set using Custom GaussianNB Tf-Idf resampled: 0.8172660098522168\n",
      "Accuracy on the test data: 0.8199719225653909 \n",
      "\n",
      "Accuracy on valid set using Custom GaussianNB Count: 0.7656650246305419\n",
      "Accuracy on the test data: 0.7696542042263927 \n",
      "\n",
      "Accuracy on valid set using Custom GaussianNB Count resampled: 0.7560344827586207\n",
      "Accuracy on the test data: 0.7586448943401802 \n",
      "\n"
     ]
    }
   ],
   "source": [
    "for i in [(X_train_tfidf, y_train, X_val_tfidf, 'Tf-Idf', X_test_tfidf),\n",
    "          (X_train_tfidf_resampled, y_train_tfidf_resampled, X_val_tfidf, 'Tf-Idf resampled', X_test_tfidf),\n",
    "          (X_train_count, y_train, X_val_count, 'Count', X_test_count),\n",
    "          (X_train_count_resampled, y_train_count_resampled, X_val_count, 'Count resampled', X_test_count)]:\n",
    "\n",
    "    \n",
    "                # Initialize and Fit the Model Using Train Set\n",
    "                gnb = GaussianNaiveBayes(alpha=best_var_smoothing) \n",
    "                gnb.fit(svd.transform(i[0]), i[1])\n",
    "            \n",
    "                # Predict labels for valid data\n",
    "                y_pred_gnb = gnb.predict(svd.transform(i[2]))\n",
    "                \n",
    "                # Check the Accuracy on Valid Set\n",
    "                accuracy_gnb = accuracy_score(y_val, y_pred_gnb) \n",
    "                print(f\"Accuracy on valid set using Custom GaussianNB {i[3]}:\", accuracy_gnb)\n",
    "            \n",
    "                # Predict labels for test data\n",
    "                predicted_labels = gnb.predict(svd.transform(i[4])) \n",
    "                \n",
    "                # Finalize on Test Set\n",
    "                accuracy = accuracy_score(y_test, predicted_labels)\n",
    "                print(\"Accuracy on the test data:\", accuracy, '\\n')\n"
   ]
  },
  {
   "cell_type": "code",
   "execution_count": null,
   "id": "e98413d3-e107-4355-8088-7456463ba271",
   "metadata": {},
   "outputs": [],
   "source": []
  },
  {
   "cell_type": "code",
   "execution_count": null,
   "id": "ce9c82ef-9352-45ae-9d05-26d31e741ea8",
   "metadata": {},
   "outputs": [],
   "source": []
  },
  {
   "cell_type": "code",
   "execution_count": null,
   "id": "096055fb-3bc3-4b3e-99dc-542c31656e3f",
   "metadata": {},
   "outputs": [],
   "source": []
  },
  {
   "cell_type": "code",
   "execution_count": null,
   "id": "22fd4d34-fa5a-4d83-87db-ebe4e616d56b",
   "metadata": {},
   "outputs": [],
   "source": [
    "# Write test_data to CSV\n",
    "test_data.to_csv(\"test_data_cleaned.csv\", index=False)\n",
    "\n",
    "# Write val_data to CSV\n",
    "val_data.to_csv(\"val_data_cleaned.csv\", index=False)\n",
    "\n",
    "# Write train_data to CSV\n",
    "train_data.to_csv(\"train_data_cleaned.csv\", index=False)"
   ]
  },
  {
   "cell_type": "code",
   "execution_count": null,
   "id": "3e15dd56-dc24-4542-93e7-61fcb1a24375",
   "metadata": {},
   "outputs": [],
   "source": []
  }
 ],
 "metadata": {
  "kernelspec": {
   "display_name": "Python 3 (ipykernel)",
   "language": "python",
   "name": "python3"
  },
  "language_info": {
   "codemirror_mode": {
    "name": "ipython",
    "version": 3
   },
   "file_extension": ".py",
   "mimetype": "text/x-python",
   "name": "python",
   "nbconvert_exporter": "python",
   "pygments_lexer": "ipython3",
   "version": "3.8.2"
  }
 },
 "nbformat": 4,
 "nbformat_minor": 5
}
